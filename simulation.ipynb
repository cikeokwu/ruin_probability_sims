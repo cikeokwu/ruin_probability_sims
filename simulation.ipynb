{
 "cells": [
  {
   "cell_type": "code",
   "execution_count": 4,
   "metadata": {},
   "outputs": [],
   "source": [
    "import numpy as np\n",
    "import sim as sim\n",
    "import matplotlib.pyplot as plt"
   ]
  },
  {
   "cell_type": "code",
   "execution_count": null,
   "metadata": {},
   "outputs": [
    {
     "name": "stdout",
     "output_type": "stream",
     "text": [
      " Time Step 0 executed \n",
      " Time Step 0 executed \n",
      " Time Step 0 executed \n",
      " Time Step 0 executed \n",
      " Time Step 0 executed \n",
      " Time Step 0 executed \n",
      " Time Step 0 executed \n",
      " Time Step 1 executed \n",
      " Time Step 2 executed \n",
      " Time Step 3 executed \n",
      " Time Step 4 executed \n",
      " Time Step 5 executed \n",
      " Time Step 6 executed \n",
      " Time Step 7 executed \n",
      " Time Step 8 executed \n",
      " Time Step 9 executed \n",
      " Time Step 10 executed \n",
      " Time Step 11 executed \n",
      " Time Step 12 executed \n",
      " Time Step 0 executed \n",
      " Time Step 0 executed \n",
      " Time Step 0 executed \n",
      " Time Step 0 executed \n",
      " Time Step 0 executed \n",
      " Time Step 1 executed \n",
      " Time Step 2 executed \n",
      " Time Step 3 executed \n",
      " Time Step 4 executed \n",
      " Time Step 5 executed \n",
      " Time Step 6 executed \n",
      " Time Step 0 executed \n",
      " Time Step 0 executed \n",
      " Time Step 1 executed \n",
      " Time Step 0 executed \n",
      " Time Step 0 executed \n",
      " Time Step 0 executed \n",
      " Time Step 1 executed \n",
      " Time Step 0 executed \n",
      " Time Step 0 executed \n",
      " Time Step 0 executed \n",
      " Time Step 1 executed \n",
      " Time Step 0 executed \n",
      " Time Step 0 executed \n",
      " Time Step 0 executed \n",
      " Time Step 0 executed \n",
      " Time Step 0 executed \n",
      " Time Step 1 executed \n",
      " Time Step 0 executed \n",
      " Time Step 1 executed \n",
      " Time Step 0 executed \n",
      " Time Step 1 executed \n",
      " Time Step 2 executed \n",
      " Time Step 3 executed \n",
      " Time Step 0 executed \n",
      " Time Step 1 executed \n",
      " Time Step 2 executed \n",
      " Time Step 3 executed \n",
      " Time Step 0 executed \n",
      " Time Step 1 executed \n",
      " Time Step 2 executed \n",
      " Time Step 3 executed \n",
      " Time Step 4 executed \n",
      " Time Step 5 executed \n",
      " Time Step 6 executed \n",
      " Time Step 7 executed \n",
      " Time Step 8 executed \n",
      " Time Step 9 executed \n",
      " Time Step 10 executed \n",
      " Time Step 11 executed \n",
      " Time Step 12 executed \n",
      " Time Step 13 executed \n",
      " Time Step 14 executed \n",
      " Time Step 15 executed \n",
      " Time Step 0 executed \n",
      " Time Step 0 executed \n",
      " Time Step 1 executed \n",
      " Time Step 2 executed \n",
      " Time Step 3 executed \n",
      " Time Step 0 executed \n",
      " Time Step 0 executed \n",
      " Time Step 0 executed \n",
      " Time Step 0 executed \n",
      " Time Step 1 executed \n",
      " Time Step 2 executed \n",
      " Time Step 3 executed \n",
      " Time Step 0 executed \n",
      " Time Step 0 executed \n",
      " Time Step 0 executed \n",
      " Time Step 0 executed \n",
      " Time Step 0 executed \n",
      " Time Step 0 executed \n",
      " Time Step 0 executed \n",
      " Time Step 1 executed \n",
      " Time Step 2 executed \n",
      " Time Step 3 executed \n",
      " Time Step 4 executed \n",
      " Time Step 5 executed \n",
      " Time Step 6 executed \n",
      " Time Step 0 executed \n",
      " Time Step 0 executed \n",
      " Time Step 0 executed \n",
      " Time Step 0 executed \n",
      " Time Step 1 executed \n",
      " Time Step 0 executed \n",
      " Time Step 0 executed \n",
      " Time Step 1 executed \n",
      " Time Step 2 executed \n",
      " Time Step 0 executed \n",
      " Time Step 0 executed \n",
      " Time Step 0 executed \n",
      " Time Step 0 executed \n",
      " Time Step 0 executed \n",
      " Time Step 1 executed \n",
      " Time Step 2 executed \n",
      " Time Step 3 executed \n",
      " Time Step 0 executed \n",
      " Time Step 0 executed \n",
      " Time Step 0 executed \n",
      " Time Step 0 executed \n",
      " Time Step 0 executed \n",
      " Time Step 0 executed \n",
      " Time Step 0 executed \n",
      " Time Step 0 executed \n",
      " Time Step 0 executed \n",
      " Time Step 0 executed \n",
      " Time Step 0 executed \n",
      " Time Step 0 executed \n",
      " Time Step 0 executed \n",
      " Time Step 0 executed \n",
      " Time Step 0 executed \n",
      " Time Step 1 executed \n",
      " Time Step 2 executed \n",
      " Time Step 3 executed \n",
      " Time Step 4 executed \n",
      " Time Step 0 executed \n",
      " Time Step 0 executed \n",
      " Time Step 0 executed \n",
      " Time Step 0 executed \n",
      " Time Step 0 executed \n",
      " Time Step 0 executed \n",
      " Time Step 0 executed \n",
      " Time Step 0 executed \n",
      " Time Step 0 executed \n",
      " Time Step 0 executed \n",
      " Time Step 0 executed \n",
      " Time Step 0 executed \n",
      " Time Step 0 executed \n",
      " Time Step 1 executed \n",
      " Time Step 0 executed \n",
      " Time Step 0 executed \n",
      " Time Step 0 executed \n",
      " Time Step 0 executed \n",
      " Time Step 0 executed \n",
      " Time Step 0 executed \n",
      " Time Step 0 executed \n",
      " Time Step 0 executed \n",
      " Time Step 1 executed \n",
      " Time Step 2 executed \n",
      " Time Step 3 executed \n",
      " Time Step 0 executed \n",
      " Time Step 1 executed \n",
      " Time Step 0 executed \n",
      " Time Step 1 executed \n",
      " Time Step 0 executed \n",
      " Time Step 0 executed \n",
      " Time Step 0 executed \n",
      " Time Step 0 executed \n",
      " Time Step 0 executed \n",
      " Time Step 0 executed \n",
      " Time Step 0 executed \n"
     ]
    }
   ],
   "source": [
    "inc , dist = sim.get_effects(100, 0.2, 100, 2, 100,5 )"
   ]
  },
  {
   "cell_type": "code",
   "execution_count": 46,
   "metadata": {},
   "outputs": [],
   "source": [
    "i1, i2, i3, i4 = inc\n",
    "d1, d2, d3, d4 = dist"
   ]
  },
  {
   "cell_type": "code",
   "execution_count": 47,
   "metadata": {},
   "outputs": [
    {
     "name": "stdout",
     "output_type": "stream",
     "text": [
      "593.38 -30.941916842001405\n"
     ]
    }
   ],
   "source": [
    "print(np.average(i1), np.average(i3))"
   ]
  },
  {
   "cell_type": "code",
   "execution_count": 50,
   "metadata": {},
   "outputs": [],
   "source": []
  },
  {
   "cell_type": "code",
   "execution_count": 49,
   "metadata": {},
   "outputs": [
    {
     "name": "stdout",
     "output_type": "stream",
     "text": [
      "325.26 -30.071870725398416\n"
     ]
    }
   ],
   "source": [
    "print(np.average(i2), np.average(i4))"
   ]
  },
  {
   "cell_type": "code",
   "execution_count": null,
   "metadata": {},
   "outputs": [],
   "source": []
  },
  {
   "cell_type": "code",
   "execution_count": 50,
   "metadata": {},
   "outputs": [
    {
     "name": "stdout",
     "output_type": "stream",
     "text": [
      "2.67 -30.43625614674872\n"
     ]
    }
   ],
   "source": [
    "print(np.average(d1), np.average(d3))"
   ]
  },
  {
   "cell_type": "code",
   "execution_count": 51,
   "metadata": {},
   "outputs": [
    {
     "name": "stdout",
     "output_type": "stream",
     "text": [
      "8.9 -29.077554305725595\n"
     ]
    }
   ],
   "source": [
    "print(np.average(d2), np.average(d4))"
   ]
  },
  {
   "cell_type": "code",
   "execution_count": 68,
   "metadata": {},
   "outputs": [],
   "source": []
  },
  {
   "cell_type": "code",
   "execution_count": null,
   "metadata": {},
   "outputs": [],
   "source": []
  }
 ],
 "metadata": {
  "kernelspec": {
   "display_name": "Python 3",
   "language": "python",
   "name": "python3"
  },
  "language_info": {
   "codemirror_mode": {
    "name": "ipython",
    "version": 3
   },
   "file_extension": ".py",
   "mimetype": "text/x-python",
   "name": "python",
   "nbconvert_exporter": "python",
   "pygments_lexer": "ipython3",
   "version": "3.7.3"
  }
 },
 "nbformat": 4,
 "nbformat_minor": 2
}
